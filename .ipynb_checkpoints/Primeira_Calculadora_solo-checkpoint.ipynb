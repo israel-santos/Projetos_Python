{
 "cells": [
  {
   "cell_type": "code",
   "execution_count": null,
   "id": "5cfd7ad0-1438-4fa1-a64d-196926f2d6fa",
   "metadata": {},
   "outputs": [
    {
     "name": "stdout",
     "output_type": "stream",
     "text": [
      "Bem vindo a calculadora\n",
      "0 : Soma\n",
      "1 : Subtração\n",
      "2 : Multiplicação\n",
      "3 : Divisão\n",
      "4 : Exponenciação\n",
      "\n",
      "\n"
     ]
    },
    {
     "name": "stdin",
     "output_type": "stream",
     "text": [
      "Escolha a operação que deseja realizar:  1\n"
     ]
    },
    {
     "name": "stdout",
     "output_type": "stream",
     "text": [
      "\n",
      "\n",
      "Operação escolhida Subtração \n"
     ]
    },
    {
     "name": "stdin",
     "output_type": "stream",
     "text": [
      "Qual o primeiro valor?  2\n",
      "Qual o segundo valor?  50\n"
     ]
    },
    {
     "name": "stdout",
     "output_type": "stream",
     "text": [
      "\n",
      "\n",
      "2.0 - 50.0 = -48.0\n",
      "\n",
      "\n"
     ]
    },
    {
     "name": "stdin",
     "output_type": "stream",
     "text": [
      "DESEJA FAZER OUTRA OPERAÇÃO? 0 - SIM, 1 - NÃO:  0\n"
     ]
    }
   ],
   "source": [
    "import os\n",
    "\n",
    "print(\"Bem vindo a calculadora\")\n",
    "print(\"0 : Soma\")\n",
    "print(\"1 : Subtração\")\n",
    "print(\"2 : Multiplicação\")\n",
    "print(\"3 : Divisão\")\n",
    "print(\"4 : Exponenciação\")\n",
    "print(\"\\n\")\n",
    "\n",
    "\n",
    "while True:\n",
    "    os.system('cls' if os.name == 'nt' else 'clear')\n",
    "    operacao = int(input(\"Escolha a operação que deseja realizar: \"))\n",
    "    print(\"\\n\")\n",
    "    \n",
    "    if operacao == 0:\n",
    "        print(\"Operação escolhida Soma \")\n",
    "        N1 = float(input(\"Qual o primeiro valor? \"))\n",
    "        N2 = float(input(\"Qual o segundo valor? \"))\n",
    "        soma = N1 + N2\n",
    "        print(\"\\n\")\n",
    "        print(\"{} + {} = {}\".format(N1, N2, soma))\n",
    "    elif operacao == 1:\n",
    "        print(\"Operação escolhida Subtração \")\n",
    "        N1 = float(input(\"Qual o primeiro valor? \"))\n",
    "        N2 = float(input(\"Qual o segundo valor? \"))\n",
    "        sub = N1 - N2\n",
    "        print(\"\\n\")\n",
    "        print(\"{} - {} = {}\".format(N1, N2, sub))\n",
    "    elif operacao == 2:\n",
    "        print(\"Operação escolhida Multiplicação \")\n",
    "        N1 = float(input(\"Qual o primeiro valor? \"))\n",
    "        N2 = float(input(\"Qual o segundo valor? \"))\n",
    "        multi = N1 * N2\n",
    "        print(\"\\n\")\n",
    "        print(\"{} * {} = {}\".format(N1, N2, multi))\n",
    "    elif operacao == 3:\n",
    "        print(\"Operação escolhida Divisão\")\n",
    "        N1 = float(input(\"Qual o primeiro valor? \"))\n",
    "        N2 = float(input(\"Qual o segundo valor? \"))\n",
    "        div = N1 / N2\n",
    "        print(\"\\n\")\n",
    "        print(\"{} / {} = {}\".format(N1, N2, div))\n",
    "    elif operacao == 4:\n",
    "        print(\"Operação escolhida Exponenciação\")\n",
    "        N1 = float(input(\"Qual o primeiro valor? \"))\n",
    "        N2 = float(input(\"Qual o segundo valor? \"))\n",
    "        expo = N1 ** N2\n",
    "        print(\"\\n\")\n",
    "        print(\"{} ^ {} = {}\".format(N1, N2, expo))\n",
    "    \n",
    "    else:\n",
    "        print(\"Digite uma operação válida!\")\n",
    "    print(\"\\n\")\n",
    "    continuar = int(input('DESEJA FAZER OUTRA OPERAÇÃO? 0 - SIM, 1 - NÃO: '))\n",
    "    if continuar == 1:\n",
    "        break\n",
    "   "
   ]
  }
 ],
 "metadata": {
  "kernelspec": {
   "display_name": "Python 3 (ipykernel)",
   "language": "python",
   "name": "python3"
  },
  "language_info": {
   "codemirror_mode": {
    "name": "ipython",
    "version": 3
   },
   "file_extension": ".py",
   "mimetype": "text/x-python",
   "name": "python",
   "nbconvert_exporter": "python",
   "pygments_lexer": "ipython3",
   "version": "3.11.5"
  }
 },
 "nbformat": 4,
 "nbformat_minor": 5
}
